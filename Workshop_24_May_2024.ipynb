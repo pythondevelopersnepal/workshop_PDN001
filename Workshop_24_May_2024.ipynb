{
 "cells": [
  {
   "cell_type": "markdown",
   "metadata": {
    "id": "IoUaZUlP7pjv"
   },
   "source": [
    "# pythondevelopersnepal"
   ]
  },
  {
   "cell_type": "markdown",
   "metadata": {},
   "source": [
    "## SECTION 1 : Python Variables and datatypes"
   ]
  },
  {
   "cell_type": "code",
   "execution_count": 1,
   "metadata": {
    "id": "obA5emdkmIHu"
   },
   "outputs": [
    {
     "name": "stdout",
     "output_type": "stream",
     "text": [
      "Hello World!\n"
     ]
    }
   ],
   "source": [
    "print(\"Hello World!\")"
   ]
  },
  {
   "cell_type": "markdown",
   "metadata": {
    "id": "qA8fGRrLmSjW"
   },
   "source": [
    "### Exercise 1.0\n",
    "Write the syntax to print your NAME and run it."
   ]
  },
  {
   "cell_type": "markdown",
   "metadata": {
    "id": "VYcE9saNnaZf"
   },
   "source": [
    "# Python Variables"
   ]
  },
  {
   "cell_type": "markdown",
   "metadata": {
    "id": "FqkIPvgtJTqn"
   },
   "source": [
    "Variables are designed to store data values."
   ]
  },
  {
   "cell_type": "code",
   "execution_count": 2,
   "metadata": {
    "id": "1LQlSHDvJm9N"
   },
   "outputs": [
    {
     "name": "stdout",
     "output_type": "stream",
     "text": [
      "a = 2\n",
      "A = 5\n"
     ]
    }
   ],
   "source": [
    "a = 2 \n",
    "\n",
    "# variables are case-sensitive \n",
    "A = 5 # this variable A is different from small 'a'\n",
    "\n",
    "print('a =', a)\n",
    "print('A =', A)"
   ]
  },
  {
   "cell_type": "code",
   "execution_count": null,
   "metadata": {
    "colab": {
     "base_uri": "https://localhost:8080/"
    },
    "id": "BbU0je9nK350",
    "outputId": "e14ddb2e-56e7-487e-ff18-75274813699a"
   },
   "outputs": [],
   "source": [
    "# We can use a pair of single or double quotes to store strings variable \n",
    "first_name = 'Python Developers' \n",
    "second_name = \"Nepal\" \n",
    "\n",
    "\n",
    "print('First Name: ', first_name)\n",
    "print('Second Name:', second_name)"
   ]
  },
  {
   "cell_type": "markdown",
   "metadata": {
    "id": "BQcbb9xXK2qX"
   },
   "source": [
    "**Rules for variable names**\n",
    "\n",
    "* Variable name should start with either a letter or an underscore. Example: `rollno` and `_rollno` are valid variable names.\n",
    "*   Variable name can not start with a number. For example, `7roll` is not valid. However, number can be included after the first character. For example, `roll7` or `r7oll` are valid.\n",
    "*   Variable name can only contain alpha-numeric ( [a-z], [A-Z], [0,9] ) or underscore ( _ ) characters\n",
    "* Variable names are case-sensitive. Example: `name`, `Name`, `nAme` are different variables.\n",
    "\n"
   ]
  },
  {
   "cell_type": "code",
   "execution_count": null,
   "metadata": {
    "id": "FxXQzSROQQ1n"
   },
   "outputs": [],
   "source": [
    "# let's get an error in assigning variable\n",
    "2roll = 123\n",
    "print(2roll)"
   ]
  },
  {
   "cell_type": "code",
   "execution_count": null,
   "metadata": {
    "id": "YoXTczUCQtEi"
   },
   "outputs": [],
   "source": [
    "# Some of the valid examples\n",
    "\n",
    "# variable names are case-sensitive. So the following two variables are different although they have the same spelling.\n",
    "city = \"Kathmandu\" \n",
    "City = \"Lalitpur\"\n",
    "\n",
    "print(\"city:\", city)\n",
    "print(\"City:\", City)"
   ]
  },
  {
   "cell_type": "markdown",
   "metadata": {},
   "source": [
    "### Exercise 1.1\n",
    "Write a program to create two variables named 'name' and 'age' respectively. Your program should print those two variables. Also include comment on each of the lines of code."
   ]
  },
  {
   "cell_type": "markdown",
   "metadata": {
    "id": "qLB1omf9nbDG"
   },
   "source": [
    "## Python Data Types"
   ]
  },
  {
   "cell_type": "markdown",
   "metadata": {
    "id": "uB3yHKd6MPF5"
   },
   "source": [
    "Variables can hold different types of data.\n",
    "\n",
    "Python has the following data types.\n",
    "* Text (String): \t`str`\n",
    "* Numeric (Numbers): \t`int`, `float`, `complex`\n",
    "* Sequence: \t`list`, `tuple`, `range`\n",
    "* Mapping: \t`dict`\n",
    "* Set: \t`set`, `frozenset`\n",
    "* Boolean (True/False): \t`bool`\n",
    "\n",
    "\n"
   ]
  },
  {
   "cell_type": "markdown",
   "metadata": {
    "id": "uV5idgUgOfxN"
   },
   "source": [
    "Examples of commonly used data types"
   ]
  },
  {
   "cell_type": "code",
   "execution_count": null,
   "metadata": {
    "id": "EZzlHbLYOfOy"
   },
   "outputs": [],
   "source": [
    "name = \"Python Developers Nepal\"\n",
    "\n",
    "age = 6\n",
    "\n",
    "height = 6.20\n",
    "\n",
    "fruits = [\"Apple\", \"Mango\", \"Orange\"] # list uses square brackets\n",
    "\n",
    "countries = {\"China\", \"India\", \"Nepal\"} # set uses curly braces\n",
    "\n",
    "coordinates = (10.0, 20.0, 30.0) # tuple type uses parentheses\n",
    "\n",
    "group_info = {\"name\": \"Python Developers Nepal\", \"age\": \"6\"} # dict type uses key:value pairs inside a pair of curly braces\n",
    "\n",
    "is_ok = True"
   ]
  },
  {
   "cell_type": "code",
   "execution_count": null,
   "metadata": {},
   "outputs": [],
   "source": [
    "print(\"List:\", fruits)"
   ]
  },
  {
   "cell_type": "code",
   "execution_count": null,
   "metadata": {},
   "outputs": [],
   "source": [
    "print(\"Set:\", countries)"
   ]
  },
  {
   "cell_type": "code",
   "execution_count": null,
   "metadata": {},
   "outputs": [],
   "source": [
    "print(\"Tuple:\", coordinates)"
   ]
  },
  {
   "cell_type": "code",
   "execution_count": null,
   "metadata": {},
   "outputs": [],
   "source": [
    "print(\"Dictionary:\",group_info)"
   ]
  },
  {
   "cell_type": "code",
   "execution_count": null,
   "metadata": {
    "colab": {
     "base_uri": "https://localhost:8080/"
    },
    "id": "e4taLMEbYOoU",
    "outputId": "dea69f9a-4d33-47bc-ceca-c89cac09ae91"
   },
   "outputs": [],
   "source": [
    "print(\"Type of name variable:\",type(name))\n",
    "print(\"Type of my_info variable:\",type(group_info))\n",
    "print(\"Type of is_ok variable:\",type(is_ok))"
   ]
  },
  {
   "cell_type": "markdown",
   "metadata": {},
   "source": [
    "### Exercise 1.2\n",
    "Print all the output from the data types defined above."
   ]
  },
  {
   "cell_type": "markdown",
   "metadata": {},
   "source": [
    "# Section 2 : Basic Operations in Datatypes"
   ]
  },
  {
   "cell_type": "code",
   "execution_count": null,
   "metadata": {},
   "outputs": [],
   "source": [
    "#numerical\n",
    "a = 10\n",
    "b = 5\n",
    "\n",
    "# Addition\n",
    "print(a + b)  \n",
    "\n",
    "# Subtraction\n",
    "print(a - b)  \n",
    "\n",
    "# Multiplication\n",
    "print(a * b)  \n",
    "\n",
    "# Division\n",
    "print(a / b) \n"
   ]
  },
  {
   "cell_type": "code",
   "execution_count": null,
   "metadata": {},
   "outputs": [],
   "source": [
    "## String\n",
    "\n",
    "s1 = \"Hello\"\n",
    "s2 = \"World\"\n",
    "\n",
    "# Concatenation\n",
    "print(s1 + \" \" + s2)  \n",
    "\n",
    "# Slicing\n",
    "print(s1[1:4])  # Output: ell\n",
    "\n",
    "# Upper case\n",
    "print(s1.upper()) \n",
    "\n",
    "# Lower case\n",
    "print(s2.lower()) \n"
   ]
  },
  {
   "cell_type": "code",
   "execution_count": null,
   "metadata": {},
   "outputs": [],
   "source": [
    "#list\n",
    "\n",
    "my_list = [1, 2, 3, 4, 5]\n",
    "\n",
    "# Append\n",
    "my_list.append(6)\n",
    "print(my_list)  # Output: [1, 2, 3, 4, 5, 6]\n",
    "\n",
    "# Indexing\n",
    "print(my_list[2])  # Output: 3\n",
    "\n",
    "# Slicing\n",
    "print(my_list[1:4])  # Output: [2, 3, 4]\n",
    "\n",
    "# Length\n",
    "print(len(my_list))  # Output: 6\n"
   ]
  },
  {
   "cell_type": "code",
   "execution_count": null,
   "metadata": {},
   "outputs": [],
   "source": [
    "# boolean\n",
    "\n",
    "a = True\n",
    "b = False\n",
    "\n",
    "# AND\n",
    "print(a and b)  # Output: False\n",
    "\n",
    "# OR\n",
    "print(a or b)  # Output: True\n",
    "\n",
    "# NOT\n",
    "print(not a)  # Output: False\n"
   ]
  },
  {
   "cell_type": "code",
   "execution_count": null,
   "metadata": {},
   "outputs": [],
   "source": [
    "# set operations \n",
    "\n",
    "set1 = {1, 2, 3}\n",
    "set2 = {3, 4, 5}\n",
    "\n",
    "set1.add(4)\n",
    "print(set1)  # Output: {1, 2, 3, 4}\n",
    "\n",
    "# Union\n",
    "print(set1 | set2)  # Output: {1, 2, 3, 4, 5}\n",
    "\n",
    "# Intersection\n",
    "print(set1 & set2)  # Output: {3, 4}\n",
    "\n",
    "# Difference\n",
    "print(set1 - set2)  # Output: {1, 2}"
   ]
  },
  {
   "cell_type": "markdown",
   "metadata": {},
   "source": [
    "# Section 3 : Introduction to Control Flow"
   ]
  },
  {
   "cell_type": "code",
   "execution_count": null,
   "metadata": {},
   "outputs": [],
   "source": [
    "x = 10\n",
    "y = 20\n",
    "\n",
    "if x < y:\n",
    "    print(\"x is less than y\")  # Output: x is less than y\n",
    "elif x == y:\n",
    "    print(\"x is equal to y\")\n",
    "else:\n",
    "    print(\"x is greater than y\")\n"
   ]
  },
  {
   "cell_type": "code",
   "execution_count": null,
   "metadata": {},
   "outputs": [],
   "source": [
    "# Loop through a list\n",
    "fruits = [\"apple\", \"banana\", \"cherry\"]\n",
    "for fruit in fruits:\n",
    "    print(fruit)\n",
    "# Output:\n",
    "# apple\n",
    "# banana\n",
    "# cherry\n",
    "\n",
    "# Loop through a range\n",
    "for i in range(3):\n",
    "    print(i)\n",
    "# Output:\n",
    "# 0\n",
    "# 1\n",
    "# 2\n"
   ]
  },
  {
   "cell_type": "code",
   "execution_count": null,
   "metadata": {},
   "outputs": [],
   "source": [
    "count = 0\n",
    "while count < 3:\n",
    "    print(count)\n",
    "    count += 1\n",
    "# Output:\n",
    "# 0\n",
    "# 1\n",
    "# 2\n"
   ]
  },
  {
   "cell_type": "code",
   "execution_count": null,
   "metadata": {},
   "outputs": [],
   "source": [
    "for i in range(5):\n",
    "    if i == 3:\n",
    "        break\n",
    "    print(i)\n",
    "# Output:\n",
    "# 0\n",
    "# 1\n",
    "# 2\n"
   ]
  },
  {
   "cell_type": "code",
   "execution_count": null,
   "metadata": {},
   "outputs": [],
   "source": [
    "for i in range(5):\n",
    "    if i == 3:\n",
    "        continue\n",
    "    print(i)\n",
    "# Output:\n",
    "# 0\n",
    "# 1\n",
    "# 2\n",
    "# 4\n"
   ]
  },
  {
   "cell_type": "code",
   "execution_count": null,
   "metadata": {},
   "outputs": [],
   "source": [
    "# Nested if statements\n",
    "x = 10\n",
    "y = 20\n",
    "if x < y:\n",
    "    if y < 30:\n",
    "        print(\"y is greater than x and less than 30\")\n",
    "    else:\n",
    "        print(\"y is greater than or equal to 30\")\n",
    "# Output: y is greater than x and less than 30\n",
    "\n",
    "# Nested loops\n",
    "for i in range(3):\n",
    "    for j in range(2):\n",
    "        print(f\"i: {i}, j: {j}\")\n",
    "# Output:\n",
    "# i: 0, j: 0\n",
    "# i: 0, j: 1\n",
    "# i: 1, j: 0\n",
    "# i: 1, j: 1\n",
    "# i: 2, j: 0\n",
    "# i: 2, j: 1"
   ]
  },
  {
   "cell_type": "markdown",
   "metadata": {
    "id": "oUecoRY29eNX"
   },
   "source": [
    "# Section 4: Python Functions"
   ]
  },
  {
   "cell_type": "markdown",
   "metadata": {
    "id": "3q3DVY_o9sRo"
   },
   "source": [
    "Functions are blocks of code which run only when called. Functions are not executed unless they are called. Functions most often take some input/s known as parameters and return some output."
   ]
  },
  {
   "cell_type": "code",
   "execution_count": null,
   "metadata": {},
   "outputs": [],
   "source": [
    "# Defining a Function\n",
    "def add_numbers(a, b):\n",
    "    \"\"\"\n",
    "    This function takes two arguments and returns their sum.\n",
    "    \"\"\"\n",
    "    # Adding the two numbers\n",
    "    result = a + b\n",
    "    return result  # Return Type\n",
    "\n",
    "# Calling the Function\n",
    "sum_result = add_numbers(5, 7)  # Function Arguments\n",
    "\n",
    "# Printing the result\n",
    "print(f\"The sum of 5 and 7 is: {sum_result}\")\n"
   ]
  },
  {
   "cell_type": "markdown",
   "metadata": {},
   "source": [
    "# Exercise 4.1\n",
    "Write a program to multiple three numbers using function."
   ]
  },
  {
   "cell_type": "markdown",
   "metadata": {},
   "source": [
    "## Thank You"
   ]
  }
 ],
 "metadata": {
  "colab": {
   "collapsed_sections": [],
   "name": "Python_Fundamentals_Course_Notes_v3_Latest.ipynb",
   "provenance": []
  },
  "kernelspec": {
   "display_name": "Python 3 (ipykernel)",
   "language": "python",
   "name": "python3"
  },
  "language_info": {
   "codemirror_mode": {
    "name": "ipython",
    "version": 3
   },
   "file_extension": ".py",
   "mimetype": "text/x-python",
   "name": "python",
   "nbconvert_exporter": "python",
   "pygments_lexer": "ipython3",
   "version": "3.9.13"
  }
 },
 "nbformat": 4,
 "nbformat_minor": 1
}
